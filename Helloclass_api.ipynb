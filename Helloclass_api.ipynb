{
 "cells": [
  {
   "cell_type": "code",
   "execution_count": 1,
   "metadata": {},
   "outputs": [
    {
     "name": "stdout",
     "output_type": "stream",
     "text": [
      " * Serving Flask app '__main__' (lazy loading)\n",
      " * Environment: production\n",
      "\u001b[31m   WARNING: This is a development server. Do not use it in a production deployment.\u001b[0m\n",
      "\u001b[2m   Use a production WSGI server instead.\u001b[0m\n",
      " * Debug mode: off\n"
     ]
    },
    {
     "name": "stderr",
     "output_type": "stream",
     "text": [
      " * Running on http://127.0.0.1:5000/ (Press CTRL+C to quit)\n",
      "127.0.0.1 - - [08/Feb/2022 20:18:17] \"GET / HTTP/1.1\" 200 -\n",
      "127.0.0.1 - - [08/Feb/2022 20:18:17] \"GET / HTTP/1.1\" 200 -\n",
      "127.0.0.1 - - [08/Feb/2022 20:18:17] \"GET / HTTP/1.1\" 200 -\n",
      "127.0.0.1 - - [08/Feb/2022 20:18:18] \"GET / HTTP/1.1\" 200 -\n",
      "127.0.0.1 - - [08/Feb/2022 20:18:34] \"GET / HTTP/1.1\" 200 -\n"
     ]
    }
   ],
   "source": [
    "from flask import Flask, jsonify, request\n",
    "import pickle\n",
    "\n",
    "app = Flask(__name__)\n",
    "\n",
    "with open('iris_model.pkl', 'rb') as fid:\n",
    "    model = pickle.load(fid)\n",
    "    fid.close()\n",
    "\n",
    "@app.route(\"/\")\n",
    "def hello_world():\n",
    "    return \"<h6>Hello, Class!</h6>\"\n",
    "\n",
    " \n",
    "if __name__ == '__main__':\n",
    "    app.run()"
   ]
  }
 ],
 "metadata": {
  "interpreter": {
   "hash": "4ac9036ed182ece6ef2726ddbdca12ece5ff93f7a9364fdc80b0ed046e896158"
  },
  "kernelspec": {
   "display_name": "Python 3.9.7 ('base')",
   "language": "python",
   "name": "python3"
  },
  "language_info": {
   "codemirror_mode": {
    "name": "ipython",
    "version": 3
   },
   "file_extension": ".py",
   "mimetype": "text/x-python",
   "name": "python",
   "nbconvert_exporter": "python",
   "pygments_lexer": "ipython3",
   "version": "3.9.9"
  },
  "orig_nbformat": 4
 },
 "nbformat": 4,
 "nbformat_minor": 2
}
