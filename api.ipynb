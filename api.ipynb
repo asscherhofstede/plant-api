{
 "cells": [
  {
   "cell_type": "code",
   "execution_count": null,
   "metadata": {},
   "outputs": [],
   "source": [
    "from flask import Flask, jsonify, request\n",
    "import pickle\n",
    "\n",
    "app = Flask(__name__)\n",
    "\n",
    "with open('iris_model.pkl', 'rb') as fid:\n",
    "    model = pickle.load(fid)\n",
    "    fid.close()\n",
    "\n",
    "@app.route(\"/\")\n",
    "def hello_world():\n",
    "    return \"<p>Hello, World!</p>\"\n",
    " \n",
    "@app.route('/predict')\n",
    "def predict():\n",
    "    splWidth = float(request.args.get('splWidth'))\n",
    "    splLength = float(request.args.get('splLength'))\n",
    "    ptlWidth = float(request.args.get('ptlWidth'))\n",
    "    ptlLength = float(request.args.get('ptlLength'))\n",
    "\n",
    "    prediction = model.predict([[splWidth,splLength,ptlWidth,ptlLength]])\n",
    "    return prediction[0]\n",
    " \n",
    "if __name__ == '__main__':\n",
    "    app.run()"
   ]
  }
 ],
 "metadata": {
  "interpreter": {
   "hash": "4ac9036ed182ece6ef2726ddbdca12ece5ff93f7a9364fdc80b0ed046e896158"
  },
  "kernelspec": {
   "display_name": "Python 3.9.7 ('base')",
   "language": "python",
   "name": "python3"
  },
  "language_info": {
   "codemirror_mode": {
    "name": "ipython",
    "version": 3
   },
   "file_extension": ".py",
   "mimetype": "text/x-python",
   "name": "python",
   "nbconvert_exporter": "python",
   "pygments_lexer": "ipython3",
   "version": "3.9.7"
  },
  "orig_nbformat": 4
 },
 "nbformat": 4,
 "nbformat_minor": 2
}
